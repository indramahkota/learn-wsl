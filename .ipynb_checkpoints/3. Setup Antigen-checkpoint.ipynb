{
 "cells": [
  {
   "cell_type": "markdown",
   "id": "d1a86c5c",
   "metadata": {},
   "source": [
    "# Install Antigen\n",
    "\n",
    "https://github.com/zsh-users/antigen"
   ]
  },
  {
   "cell_type": "markdown",
   "id": "89327dac",
   "metadata": {},
   "source": [
    "## Installation command\n",
    "\n",
    "> curl -L git.io/antigen > antigen.zsh\n",
    "\n",
    "will download source code of antigen and install it on the directory"
   ]
  },
  {
   "cell_type": "markdown",
   "id": "cf1637f8",
   "metadata": {},
   "source": [
    "## Create .antigenrc file\n",
    "\n",
    "```\n",
    "# Load oh-my-zsh library\n",
    "antigen use oh-my-zsh\n",
    "\n",
    "# Load bundles from the default repo (oh-my-zsh)\n",
    "antigen bundle git\n",
    "antigen bundle command-not-found\n",
    "antigen bundle docker\n",
    "antigen bundle heroku\n",
    "antigen bundle pip\n",
    "antigen bundle lein\n",
    "\n",
    "# Load bundles from external repos\n",
    "antigen bundle zsh-users/zsh-completions\n",
    "antigen bundle zsh-users/zsh-autosuggestions\n",
    "antigen bundle zsh-users/zsh-syntax-highlighting\n",
    "\n",
    "# Select theme\n",
    "# antigen theme denysdovhan/spaceship-prompt\n",
    "\n",
    "# Tell Antigen that you're done\n",
    "antigen apply\n",
    "```"
   ]
  },
  {
   "cell_type": "markdown",
   "id": "caf6fc21",
   "metadata": {},
   "source": [
    "## Additional scripts on .zshrc\n",
    "\n",
    "put the scripts on .zshrc file\n",
    "\n",
    "```\n",
    "# --------------------------------\n",
    "# New Antigen Scripts\n",
    "# --------------------------------\n",
    "\n",
    "# Load Antigen\n",
    "source \"/home/indra/antigen.zsh\"\n",
    "\n",
    "# Load Antigen configurations\n",
    "antigen init /home/indra/.antigenrc\n",
    "```"
   ]
  }
 ],
 "metadata": {
  "kernelspec": {
   "display_name": "Python 3 (ipykernel)",
   "language": "python",
   "name": "python3"
  },
  "language_info": {
   "codemirror_mode": {
    "name": "ipython",
    "version": 3
   },
   "file_extension": ".py",
   "mimetype": "text/x-python",
   "name": "python",
   "nbconvert_exporter": "python",
   "pygments_lexer": "ipython3",
   "version": "3.9.16"
  }
 },
 "nbformat": 4,
 "nbformat_minor": 5
}
