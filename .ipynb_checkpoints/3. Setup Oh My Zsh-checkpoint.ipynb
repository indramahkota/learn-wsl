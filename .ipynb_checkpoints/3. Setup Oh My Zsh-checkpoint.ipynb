{
 "cells": [
  {
   "cell_type": "markdown",
   "id": "d85dad7b",
   "metadata": {},
   "source": [
    "# Install Oh my Zsh\n",
    "\n",
    "> sh -c \"$(curl -fsSL https://raw.githubusercontent.com/ohmyzsh/ohmyzsh/master/tools/install.sh)\""
   ]
  },
  {
   "cell_type": "markdown",
   "id": "15ddaafe",
   "metadata": {},
   "source": [
    "Automatically replace old .zshrc configuration"
   ]
  }
 ],
 "metadata": {
  "kernelspec": {
   "display_name": "Python 3 (ipykernel)",
   "language": "python",
   "name": "python3"
  },
  "language_info": {
   "codemirror_mode": {
    "name": "ipython",
    "version": 3
   },
   "file_extension": ".py",
   "mimetype": "text/x-python",
   "name": "python",
   "nbconvert_exporter": "python",
   "pygments_lexer": "ipython3",
   "version": "3.9.16"
  }
 },
 "nbformat": 4,
 "nbformat_minor": 5
}
