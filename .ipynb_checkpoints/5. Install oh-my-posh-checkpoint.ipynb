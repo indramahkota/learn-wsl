{
 "cells": [
  {
   "cell_type": "markdown",
   "id": "dd548ef0",
   "metadata": {},
   "source": [
    "# Install using homebrew\n",
    "\n",
    "> brew install jandedobbeleer/oh-my-posh/oh-my-posh"
   ]
  },
  {
   "cell_type": "markdown",
   "id": "ce9bed17",
   "metadata": {},
   "source": [
    "## Clone the repository for themes\n",
    "\n",
    "> git clone https://github.com/JanDeDobbeleer/oh-my-posh.git"
   ]
  },
  {
   "cell_type": "markdown",
   "id": "83eae3f1",
   "metadata": {},
   "source": [
    "## Additional scripts on .zshrc\n",
    "\n",
    "```\n",
    "# --------------------------------\n",
    "# New Oh My Posh Scripts\n",
    "# --------------------------------\n",
    "eval \"$(oh-my-posh prompt init zsh --config /home/indra/oh-my-posh/themes/paradox.omp.json)\"\n",
    "```"
   ]
  }
 ],
 "metadata": {
  "kernelspec": {
   "display_name": "Python 3 (ipykernel)",
   "language": "python",
   "name": "python3"
  },
  "language_info": {
   "codemirror_mode": {
    "name": "ipython",
    "version": 3
   },
   "file_extension": ".py",
   "mimetype": "text/x-python",
   "name": "python",
   "nbconvert_exporter": "python",
   "pygments_lexer": "ipython3",
   "version": "3.9.16"
  }
 },
 "nbformat": 4,
 "nbformat_minor": 5
}
