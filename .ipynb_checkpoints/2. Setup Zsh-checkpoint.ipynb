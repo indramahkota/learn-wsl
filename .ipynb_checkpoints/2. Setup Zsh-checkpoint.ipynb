{
 "cells": [
  {
   "cell_type": "markdown",
   "id": "bd9e545d",
   "metadata": {},
   "source": [
    "### Konfigurasi Zsh\n",
    "\n",
    "> sudo apt install zsh"
   ]
  },
  {
   "cell_type": "markdown",
   "id": "cd96a83e",
   "metadata": {},
   "source": [
    "### Cek lokasi instalasi zsh\n",
    "\n",
    "> which zsh\n",
    "\n",
    "```\n",
    "/usr/bin/zsh\n",
    "```"
   ]
  },
  {
   "cell_type": "markdown",
   "id": "db597b3b",
   "metadata": {},
   "source": [
    "###  Zsh sebagai shell default\n",
    "\n",
    "> chsh -s /usr/bin/zsh\n",
    "\n",
    "https://explainshell.com/explain?cmd=chsh+-s+%2Fusr%2Fbin%2Fzsh\n",
    "\n",
    "```\n",
    "This is the Z Shell configuration function for new users,\n",
    "zsh-newuser-install.\n",
    "You are seeing this message because you have no zsh startup files\n",
    "(the files .zshenv, .zprofile, .zshrc, .zlogin in the directory\n",
    "~).  This function can help you with a few settings that should\n",
    "make your use of the shell easier.\n",
    "\n",
    "You can:\n",
    "\n",
    "(q)  Quit and do nothing.  The function will be run again next time.\n",
    "\n",
    "(0)  Exit, creating the file ~/.zshrc containing just a comment.\n",
    "     That will prevent this function being run again.\n",
    "\n",
    "(1)  Continue to the main menu.\n",
    "\n",
    "(2)  Populate your ~/.zshrc with the configuration recommended\n",
    "     by the system administrator and exit (you will need to edit\n",
    "     the file by hand, if so desired).\n",
    "\n",
    "--- Type one of the keys in parentheses ---\n",
    "```\n",
    "\n",
    "**Choose q: No need recommended settings**"
   ]
  }
 ],
 "metadata": {
  "kernelspec": {
   "display_name": "Python 3 (ipykernel)",
   "language": "python",
   "name": "python3"
  },
  "language_info": {
   "codemirror_mode": {
    "name": "ipython",
    "version": 3
   },
   "file_extension": ".py",
   "mimetype": "text/x-python",
   "name": "python",
   "nbconvert_exporter": "python",
   "pygments_lexer": "ipython3",
   "version": "3.9.16"
  }
 },
 "nbformat": 4,
 "nbformat_minor": 5
}
