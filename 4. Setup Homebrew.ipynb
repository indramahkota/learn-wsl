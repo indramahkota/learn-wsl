{
 "cells": [
  {
   "cell_type": "markdown",
   "id": "1c32eeff",
   "metadata": {},
   "source": [
    "# Install Homebrew on WSL2\n",
    "\n",
    "https://docs.brew.sh/Installation#linux-or-windows-10-subsystem-for-linux"
   ]
  },
  {
   "cell_type": "markdown",
   "id": "88035e2f",
   "metadata": {},
   "source": [
    "> mkdir homebrew && curl -L https://github.com/Homebrew/brew/tarball/master | tar xz --strip 1 -C homebrew\n",
    "\n",
    "```\n",
    "% Total    % Received % Xferd  Average Speed   Time    Time     Time  Current\n",
    "                                 Dload  Upload   Total   Spent    Left  Speed\n",
    "  0     0    0     0    0     0      0      0 --:--:-- --:--:-- --:--:--     0\n",
    "100 2936k    0 2936k    0     0  1811k      0 --:--:--  0:00:01 --:--:-- 3143k\n",
    "```"
   ]
  },
  {
   "cell_type": "markdown",
   "id": "07d87f61",
   "metadata": {},
   "source": [
    "> eval \"$(homebrew/bin/brew shellenv)\""
   ]
  },
  {
   "cell_type": "markdown",
   "id": "c0957f35",
   "metadata": {},
   "source": [
    "> brew update --force --quiet\n",
    "\n",
    "```\n",
    "Receiving objects: 100% (1400180/1400180), 534.54 MiB | 11.24 MiB/s, done.\n",
    "Resolving deltas: 100% (975782/975782), done.\n",
    "Tapped 3 commands and 6486 formulae (6,838 files, 588.6MB).\n",
    "```"
   ]
  },
  {
   "cell_type": "markdown",
   "id": "cd0550b7",
   "metadata": {},
   "source": [
    "> chmod -R go-w \"$(brew --prefix)/share/zsh\""
   ]
  },
  {
   "cell_type": "markdown",
   "id": "268832e2",
   "metadata": {},
   "source": [
    "## Additional scripts on .zshrc\n",
    "\n",
    "```\n",
    "# --------------------------------\n",
    "# New Brew Scripts\n",
    "# --------------------------------\n",
    "\n",
    "eval \"$(/home/indra/homebrew/bin/brew shellenv)\"\n",
    "```"
   ]
  }
 ],
 "metadata": {
  "kernelspec": {
   "display_name": "Python 3 (ipykernel)",
   "language": "python",
   "name": "python3"
  },
  "language_info": {
   "codemirror_mode": {
    "name": "ipython",
    "version": 3
   },
   "file_extension": ".py",
   "mimetype": "text/x-python",
   "name": "python",
   "nbconvert_exporter": "python",
   "pygments_lexer": "ipython3",
   "version": "3.9.16"
  }
 },
 "nbformat": 4,
 "nbformat_minor": 5
}
